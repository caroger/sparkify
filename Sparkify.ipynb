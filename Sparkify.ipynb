{
 "cells": [
  {
   "cell_type": "markdown",
   "metadata": {},
   "source": [
    "# Sparkify Project Workspace\n",
    "This workspace contains a tiny subset (128MB) of the full dataset available (12GB). Feel free to use this workspace to build your project, or to explore a smaller subset with Spark before deploying your cluster on the cloud. Instructions for setting up your Spark cluster is included in the last lesson of the Extracurricular Spark Course content.\n",
    "\n",
    "You can follow the steps below to guide your data analysis and model building portion of this project."
   ]
  },
  {
   "cell_type": "code",
   "execution_count": 142,
   "metadata": {
    "scrolled": true
   },
   "outputs": [],
   "source": [
    "# import libraries\n",
    "import datetime\n",
    "\n",
    "import matplotlib.pyplot as plt\n",
    "import numpy as np\n",
    "import pandas as pd\n",
    "import seaborn as sns\n",
    "\n",
    "from pyspark.sql import SparkSession\n",
    "import pyspark.sql.functions as F\n",
    "import pyspark.sql.types as T\n",
    "\n",
    "from pyspark.sql.functions import asc, col, datediff, dayofmonth, desc, from_unixtime\n",
    "from pyspark.sql.functions import max as Fmax\n",
    "from pyspark.sql.functions import min as Fmin\n",
    "from pyspark.sql.functions import sum as Fsum\n",
    "from pyspark.sql.functions import udf\n",
    "from pyspark.sql.types import DateType, IntegerType, StringType,DecimalType, DoubleType\n",
    "\n",
    "\n",
    "%matplotlib inline\n",
    "plt.style.use('seaborn-darkgrid')\n",
    "sns.set(style=\"darkgrid\")"
   ]
  },
  {
   "cell_type": "code",
   "execution_count": 2,
   "metadata": {
    "scrolled": true
   },
   "outputs": [],
   "source": [
    "# create a Spark session\n",
    "spark = SparkSession.builder.appName(\"Sparkify\").getOrCreate()"
   ]
  },
  {
   "cell_type": "code",
   "execution_count": 3,
   "metadata": {
    "scrolled": true
   },
   "outputs": [
    {
     "data": {
      "text/plain": [
       "[('spark.driver.port', '38237'),\n",
       " ('spark.rdd.compress', 'True'),\n",
       " ('spark.app.name', 'Sparkify'),\n",
       " ('spark.serializer.objectStreamReset', '100'),\n",
       " ('spark.master', 'local[*]'),\n",
       " ('spark.executor.id', 'driver'),\n",
       " ('spark.submit.deployMode', 'client'),\n",
       " ('spark.driver.host', 'mint.lan'),\n",
       " ('spark.ui.showConsoleProgress', 'true'),\n",
       " ('spark.app.id', 'local-1592586797596')]"
      ]
     },
     "execution_count": 3,
     "metadata": {},
     "output_type": "execute_result"
    }
   ],
   "source": [
    "spark.sparkContext.getConf().getAll()"
   ]
  },
  {
   "cell_type": "markdown",
   "metadata": {},
   "source": [
    "# Load and Clean Dataset\n",
    "In this workspace, the mini-dataset file is `mini_sparkify_event_data.json`. Load and clean the dataset, checking for invalid or missing data - for example, records without userids or sessionids. "
   ]
  },
  {
   "cell_type": "markdown",
   "metadata": {},
   "source": [
    "## Load Data"
   ]
  },
  {
   "cell_type": "code",
   "execution_count": 4,
   "metadata": {
    "scrolled": true
   },
   "outputs": [],
   "source": [
    "file_path = \"./mini_sparkify_event_data.json\"\n",
    "df = spark.read.json(file_path)"
   ]
  },
  {
   "cell_type": "markdown",
   "metadata": {},
   "source": [
    "## Clean Data"
   ]
  },
  {
   "cell_type": "markdown",
   "metadata": {},
   "source": [
    "### Explore Data"
   ]
  },
  {
   "cell_type": "code",
   "execution_count": 5,
   "metadata": {
    "scrolled": true
   },
   "outputs": [
    {
     "name": "stdout",
     "output_type": "stream",
     "text": [
      "root\n",
      " |-- artist: string (nullable = true)\n",
      " |-- auth: string (nullable = true)\n",
      " |-- firstName: string (nullable = true)\n",
      " |-- gender: string (nullable = true)\n",
      " |-- itemInSession: long (nullable = true)\n",
      " |-- lastName: string (nullable = true)\n",
      " |-- length: double (nullable = true)\n",
      " |-- level: string (nullable = true)\n",
      " |-- location: string (nullable = true)\n",
      " |-- method: string (nullable = true)\n",
      " |-- page: string (nullable = true)\n",
      " |-- registration: long (nullable = true)\n",
      " |-- sessionId: long (nullable = true)\n",
      " |-- song: string (nullable = true)\n",
      " |-- status: long (nullable = true)\n",
      " |-- ts: long (nullable = true)\n",
      " |-- userAgent: string (nullable = true)\n",
      " |-- userId: string (nullable = true)\n",
      "\n"
     ]
    }
   ],
   "source": [
    "# display columns names\n",
    "df.printSchema()"
   ]
  },
  {
   "cell_type": "code",
   "execution_count": 6,
   "metadata": {
    "scrolled": true
   },
   "outputs": [
    {
     "data": {
      "text/plain": [
       "(286500, 18)"
      ]
     },
     "execution_count": 6,
     "metadata": {},
     "output_type": "execute_result"
    }
   ],
   "source": [
    "# size of the data\n",
    "df.count(), len(df.columns)"
   ]
  },
  {
   "cell_type": "code",
   "execution_count": 7,
   "metadata": {
    "scrolled": true
   },
   "outputs": [
    {
     "data": {
      "text/plain": [
       "[Row(artist='Martha Tilston', auth='Logged In', firstName='Colin', gender='M', itemInSession=50, lastName='Freeman', length=277.89016, level='paid', location='Bakersfield, CA', method='PUT', page='NextSong', registration=1538173362000, sessionId=29, song='Rockpools', status=200, ts=1538352117000, userAgent='Mozilla/5.0 (Windows NT 6.1; WOW64; rv:31.0) Gecko/20100101 Firefox/31.0', userId='30'),\n",
       " Row(artist='Five Iron Frenzy', auth='Logged In', firstName='Micah', gender='M', itemInSession=79, lastName='Long', length=236.09424, level='free', location='Boston-Cambridge-Newton, MA-NH', method='PUT', page='NextSong', registration=1538331630000, sessionId=8, song='Canada', status=200, ts=1538352180000, userAgent='\"Mozilla/5.0 (Windows NT 6.1; WOW64) AppleWebKit/537.36 (KHTML, like Gecko) Chrome/37.0.2062.103 Safari/537.36\"', userId='9'),\n",
       " Row(artist='Adam Lambert', auth='Logged In', firstName='Colin', gender='M', itemInSession=51, lastName='Freeman', length=282.8273, level='paid', location='Bakersfield, CA', method='PUT', page='NextSong', registration=1538173362000, sessionId=29, song='Time For Miracles', status=200, ts=1538352394000, userAgent='Mozilla/5.0 (Windows NT 6.1; WOW64; rv:31.0) Gecko/20100101 Firefox/31.0', userId='30'),\n",
       " Row(artist='Enigma', auth='Logged In', firstName='Micah', gender='M', itemInSession=80, lastName='Long', length=262.71302, level='free', location='Boston-Cambridge-Newton, MA-NH', method='PUT', page='NextSong', registration=1538331630000, sessionId=8, song='Knocking On Forbidden Doors', status=200, ts=1538352416000, userAgent='\"Mozilla/5.0 (Windows NT 6.1; WOW64) AppleWebKit/537.36 (KHTML, like Gecko) Chrome/37.0.2062.103 Safari/537.36\"', userId='9'),\n",
       " Row(artist='Daft Punk', auth='Logged In', firstName='Colin', gender='M', itemInSession=52, lastName='Freeman', length=223.60771, level='paid', location='Bakersfield, CA', method='PUT', page='NextSong', registration=1538173362000, sessionId=29, song='Harder Better Faster Stronger', status=200, ts=1538352676000, userAgent='Mozilla/5.0 (Windows NT 6.1; WOW64; rv:31.0) Gecko/20100101 Firefox/31.0', userId='30')]"
      ]
     },
     "execution_count": 7,
     "metadata": {},
     "output_type": "execute_result"
    }
   ],
   "source": [
    "# display first 5 record\n",
    "df.head(5)"
   ]
  },
  {
   "cell_type": "code",
   "execution_count": 8,
   "metadata": {},
   "outputs": [
    {
     "name": "stdout",
     "output_type": "stream",
     "text": [
      "artist \t with null values: 58392\n",
      "auth \t with null values: 0\n",
      "firstName \t with null values: 8346\n",
      "gender \t with null values: 8346\n",
      "itemInSession \t with null values: 0\n",
      "lastName \t with null values: 8346\n",
      "length \t with null values: 58392\n",
      "level \t with null values: 0\n",
      "location \t with null values: 8346\n",
      "method \t with null values: 0\n",
      "page \t with null values: 0\n",
      "registration \t with null values: 8346\n",
      "sessionId \t with null values: 0\n",
      "song \t with null values: 58392\n",
      "status \t with null values: 0\n",
      "ts \t with null values: 0\n",
      "userAgent \t with null values: 8346\n",
      "userId \t with null values: 0\n"
     ]
    }
   ],
   "source": [
    "# check null values\n",
    "for col in df.columns:\n",
    "    print(col, \"\\t\", \"with null values:\", df.filter(df[col].isNull()).count())"
   ]
  },
  {
   "cell_type": "markdown",
   "metadata": {},
   "source": [
    "Exam columns with Null Values"
   ]
  },
  {
   "cell_type": "code",
   "execution_count": 9,
   "metadata": {},
   "outputs": [
    {
     "name": "stdout",
     "output_type": "stream",
     "text": [
      "+------+---------+--------+--------+------------+---------+\n",
      "|userId|firstName|lastName|location|registration|userAgent|\n",
      "+------+---------+--------+--------+------------+---------+\n",
      "|      |     null|    null|    null|        null|     null|\n",
      "|      |     null|    null|    null|        null|     null|\n",
      "|      |     null|    null|    null|        null|     null|\n",
      "|      |     null|    null|    null|        null|     null|\n",
      "|      |     null|    null|    null|        null|     null|\n",
      "|      |     null|    null|    null|        null|     null|\n",
      "|      |     null|    null|    null|        null|     null|\n",
      "|      |     null|    null|    null|        null|     null|\n",
      "|      |     null|    null|    null|        null|     null|\n",
      "|      |     null|    null|    null|        null|     null|\n",
      "|      |     null|    null|    null|        null|     null|\n",
      "|      |     null|    null|    null|        null|     null|\n",
      "|      |     null|    null|    null|        null|     null|\n",
      "|      |     null|    null|    null|        null|     null|\n",
      "|      |     null|    null|    null|        null|     null|\n",
      "|      |     null|    null|    null|        null|     null|\n",
      "|      |     null|    null|    null|        null|     null|\n",
      "|      |     null|    null|    null|        null|     null|\n",
      "|      |     null|    null|    null|        null|     null|\n",
      "|      |     null|    null|    null|        null|     null|\n",
      "+------+---------+--------+--------+------------+---------+\n",
      "only showing top 20 rows\n",
      "\n"
     ]
    }
   ],
   "source": [
    "# null values due to empty userId\n",
    "df.select(\"userId\",\"firstName\",\"lastName\", \"location\", \"registration\", \"userAgent\").where(F.col(\"firstName\").isNull()).show()"
   ]
  },
  {
   "cell_type": "code",
   "execution_count": 10,
   "metadata": {},
   "outputs": [
    {
     "name": "stdout",
     "output_type": "stream",
     "text": [
      "+------+---------------+------+------+----+\n",
      "|userId|           page|artist|length|song|\n",
      "+------+---------------+------+------+----+\n",
      "|    30|Add to Playlist|  null|  null|null|\n",
      "|     9|    Roll Advert|  null|  null|null|\n",
      "|     9|      Thumbs Up|  null|  null|null|\n",
      "|    54|      Downgrade|  null|  null|null|\n",
      "|    54|      Thumbs Up|  null|  null|null|\n",
      "|     9|    Thumbs Down|  null|  null|null|\n",
      "|     9|           Home|  null|  null|null|\n",
      "|     9|         Logout|  null|  null|null|\n",
      "|    74|      Thumbs Up|  null|  null|null|\n",
      "|      |           Home|  null|  null|null|\n",
      "|      |           Help|  null|  null|null|\n",
      "|      |           Home|  null|  null|null|\n",
      "|      |          Login|  null|  null|null|\n",
      "|     9|           Home|  null|  null|null|\n",
      "|    30|    Thumbs Down|  null|  null|null|\n",
      "|     4|         Logout|  null|  null|null|\n",
      "|      |           Home|  null|  null|null|\n",
      "|      |          Login|  null|  null|null|\n",
      "|     4|           Home|  null|  null|null|\n",
      "|    74|Add to Playlist|  null|  null|null|\n",
      "+------+---------------+------+------+----+\n",
      "only showing top 20 rows\n",
      "\n"
     ]
    }
   ],
   "source": [
    "# null values due to activities (page visited) not related to song playing \n",
    "df.select(\"userId\", \"page\",\"artist\",\"length\", \"song\").where(F.col(\"artist\").isNull()).show()"
   ]
  },
  {
   "cell_type": "markdown",
   "metadata": {},
   "source": [
    "The null values in the `artist`, `length` and `song` columns corresponds to actions not related to playing a song."
   ]
  },
  {
   "cell_type": "markdown",
   "metadata": {},
   "source": [
    "### Clean Data"
   ]
  },
  {
   "cell_type": "code",
   "execution_count": 11,
   "metadata": {},
   "outputs": [
    {
     "name": "stdout",
     "output_type": "stream",
     "text": [
      "+------+\n",
      "|userId|\n",
      "+------+\n",
      "|      |\n",
      "|    10|\n",
      "|   100|\n",
      "|100001|\n",
      "|100002|\n",
      "|100003|\n",
      "|100004|\n",
      "|100005|\n",
      "|100006|\n",
      "|100007|\n",
      "|100008|\n",
      "|100009|\n",
      "|100010|\n",
      "|100011|\n",
      "|100012|\n",
      "|100013|\n",
      "|100014|\n",
      "|100015|\n",
      "|100016|\n",
      "|100017|\n",
      "+------+\n",
      "only showing top 20 rows\n",
      "\n"
     ]
    }
   ],
   "source": [
    "# exam and make sure we have valid userId for all records\n",
    "df.select(\"userId\").distinct().sort(asc(\"userId\")).show()"
   ]
  },
  {
   "cell_type": "code",
   "execution_count": 12,
   "metadata": {
    "scrolled": true
   },
   "outputs": [],
   "source": [
    "# remove data where userID is empty string\n",
    "df = df.filter(\"userId != ''\")"
   ]
  },
  {
   "cell_type": "code",
   "execution_count": 13,
   "metadata": {
    "scrolled": true
   },
   "outputs": [
    {
     "data": {
      "text/plain": [
       "(278154, 18)"
      ]
     },
     "execution_count": 13,
     "metadata": {},
     "output_type": "execute_result"
    }
   ],
   "source": [
    "# shape of cleaned data\n",
    "df.count(), len(df.columns)"
   ]
  },
  {
   "cell_type": "markdown",
   "metadata": {},
   "source": [
    "# Exploratory Data Analysis"
   ]
  },
  {
   "cell_type": "markdown",
   "metadata": {},
   "source": [
    "##  Define Churn"
   ]
  },
  {
   "cell_type": "code",
   "execution_count": 14,
   "metadata": {
    "scrolled": true
   },
   "outputs": [
    {
     "name": "stdout",
     "output_type": "stream",
     "text": [
      "+--------------------+\n",
      "|                page|\n",
      "+--------------------+\n",
      "|               About|\n",
      "|          Add Friend|\n",
      "|     Add to Playlist|\n",
      "|              Cancel|\n",
      "|Cancellation Conf...|\n",
      "|           Downgrade|\n",
      "|               Error|\n",
      "|                Help|\n",
      "|                Home|\n",
      "|              Logout|\n",
      "|            NextSong|\n",
      "|         Roll Advert|\n",
      "|       Save Settings|\n",
      "|            Settings|\n",
      "|    Submit Downgrade|\n",
      "|      Submit Upgrade|\n",
      "|         Thumbs Down|\n",
      "|           Thumbs Up|\n",
      "|             Upgrade|\n",
      "+--------------------+\n",
      "\n"
     ]
    }
   ],
   "source": [
    "# list of events in page column\n",
    "df.select(\"page\").distinct().sort(\"page\").show()"
   ]
  },
  {
   "cell_type": "markdown",
   "metadata": {},
   "source": [
    "We will use the `Cancellation Confirmation` event in the `page` column to define churn, which happen for both paid and free users."
   ]
  },
  {
   "cell_type": "code",
   "execution_count": 15,
   "metadata": {},
   "outputs": [],
   "source": [
    "def get_churn(df=df):\n",
    "    df.createOrReplaceTempView(\"df\")\n",
    "    # query a table with churned userId and value 1 indicating they are churned user\n",
    "    churned_userId = spark.sql(\n",
    "        'SELECT DISTINCT userId, 1 as churn FROM df \\\n",
    "    WHERE page = \"Cancellation Confirmation\"'\n",
    "    )\n",
    "    # query a table with churned userId and value 0 indicating they are churned user\n",
    "    unchurned_userId = spark.sql(\n",
    "        'SELECT DISTINCT userId, 0 as churn FROM df \\\n",
    "    WHERE userId NOT IN (SELECT DISTINCT userId from df WHERE Page = \"Cancellation Confirmation\")'\n",
    "    )\n",
    "    # merge two table together\n",
    "    return churned_userId.union(unchurned_userId)\n",
    "\n",
    "\n",
    "assert get_churn(df).count() == df.select(\"userId\").distinct().count()"
   ]
  },
  {
   "cell_type": "code",
   "execution_count": 16,
   "metadata": {},
   "outputs": [],
   "source": [
    "# Data preparation\n",
    "churn_df = get_churn(df)\n",
    "data = churn_df.toPandas()\n",
    "counts = data[\"churn\"].value_counts()\n",
    "total = len(data)\n",
    "labels = [\"Active\", \"Churned\"]"
   ]
  },
  {
   "cell_type": "code",
   "execution_count": 17,
   "metadata": {},
   "outputs": [
    {
     "data": {
      "image/png": "[encoded data removed]",
      "text/plain": [
       "<Figure size 432x288 with 1 Axes>"
      ]
     },
     "metadata": {},
     "output_type": "display_data"
    }
   ],
   "source": [
    "def my_fmt(x):\n",
    "    \"\"\"autopct formatter to display both actual value and percentage\"\"\"\n",
    "    return '{:.1f}%\\n({:.0f})'.format(x, total*x/100)\n",
    "                                      \n",
    "# Draw Plot\n",
    "plt.pie(counts, labels = labels, autopct = my_fmt, shadow=True)\n",
    "plt.title(\"Churned vs Active User Count\");"
   ]
  },
  {
   "cell_type": "markdown",
   "metadata": {},
   "source": [
    "## User Life Time "
   ]
  },
  {
   "cell_type": "code",
   "execution_count": 18,
   "metadata": {},
   "outputs": [],
   "source": [
    "def get_days_since_reg(df=df):\n",
    "    \"\"\"\n",
    "    Returns the number of days since registration for each user\n",
    "    \"\"\"\n",
    "\n",
    "    time_df = df.groupby(\"userId\").agg(\n",
    "        F.expr(\"from_unixtime(min(registration)/1000)\").alias(\"reg_time\"),\n",
    "        F.expr(\"from_unixtime(max(ts)/1000)\").alias(\"last_active_time\"),\n",
    "    )\n",
    "\n",
    "    return time_df.withColumn(\n",
    "        \"days_since_reg\", F.datediff(F.col(\"last_active_time\"), F.col(\"reg_time\"))\n",
    "    ).select(\"userId\", \"days_since_reg\")"
   ]
  },
  {
   "cell_type": "code",
   "execution_count": 40,
   "metadata": {},
   "outputs": [],
   "source": [
    "# Data Preparation\n",
    "life_df= get_days_since_reg(df)\n",
    "data = life_df.join(churn_df, on=['userId']).toPandas()"
   ]
  },
  {
   "cell_type": "code",
   "execution_count": 45,
   "metadata": {},
   "outputs": [
    {
     "data": {
      "image/png": "[encoded data removed]",
      "text/plain": [
       "<Figure size 432x288 with 1 Axes>"
      ]
     },
     "metadata": {},
     "output_type": "display_data"
    }
   ],
   "source": [
    "# Plot\n",
    "sns.distplot(data[data[\"churn\"] ==0][\"days_since_reg\"], kde =True, label = \"Active\")\n",
    "sns.distplot(data[data[\"churn\"] ==1][\"days_since_reg\"], kde =True, label = \"Churned\")\n",
    "plt.xlabel(\"Number of Days Since Registration\")\n",
    "plt.ylabel(\"Density\")\n",
    "plt.title(\"Histogram of Number of Days Since Registration by Active and Churned Users\")\n",
    "plt.legend();"
   ]
  },
  {
   "cell_type": "markdown",
   "metadata": {},
   "source": [
    "## User Gender"
   ]
  },
  {
   "cell_type": "code",
   "execution_count": 21,
   "metadata": {},
   "outputs": [],
   "source": [
    "def get_gender(df = df):\n",
    "    \"\"\"\n",
    "    Query and return the gender of each user\n",
    "    \"\"\" \n",
    "    \n",
    "    gender_df = df.groupby(\"userId\").agg(Fmax(\"gender\").alias('gender'))\n",
    "    \n",
    "    return gender_df"
   ]
  },
  {
   "cell_type": "code",
   "execution_count": 22,
   "metadata": {},
   "outputs": [
    {
     "data": {
      "text/plain": [
       "Text(0, 0.5, 'Count')"
      ]
     },
     "execution_count": 22,
     "metadata": {},
     "output_type": "execute_result"
    },
    {
     "data": {
      "image/png": "[encoded data removed]",
      "text/plain": [
       "<Figure size 432x288 with 1 Axes>"
      ]
     },
     "metadata": {},
     "output_type": "display_data"
    }
   ],
   "source": [
    "# create gender by userId dataframe\n",
    "gender_df=get_gender(df)\n",
    "# create gender counts df\n",
    "data = gender_df.groupby(\"gender\").agg(F.expr(\"count(userId)\").alias(\"count\")).toPandas()\n",
    "\n",
    "# Plot gender counts df\n",
    "ax = sns.barplot(x = \"gender\", y = \"count\", data = data)\n",
    "# Annotations\n",
    "for p in ax.patches:\n",
    "    height = p.get_height()\n",
    "    ax.text(\n",
    "        p.get_x() + p.get_width() / 2.0,\n",
    "        height + 3,\n",
    "        \"{:.0f}\".format(height),\n",
    "        ha=\"center\",\n",
    "    )\n",
    "plt.title(\"User Gender Counts\")\n",
    "plt.xlabel(\"Gender\")\n",
    "plt.ylabel(\"Count\")"
   ]
  },
  {
   "cell_type": "markdown",
   "metadata": {},
   "source": [
    "User Gender by Churn"
   ]
  },
  {
   "cell_type": "code",
   "execution_count": 23,
   "metadata": {},
   "outputs": [],
   "source": [
    "data = gender_df.join(churn_df, on=[\"userId\"]).toPandas()\n",
    "data['churn'] = data['churn'].map({0:\"Active\", 1:\"Churn\"})"
   ]
  },
  {
   "cell_type": "code",
   "execution_count": 24,
   "metadata": {},
   "outputs": [
    {
     "data": {
      "image/png": "[encoded data removed]",
      "text/plain": [
       "<Figure size 432x288 with 1 Axes>"
      ]
     },
     "metadata": {},
     "output_type": "display_data"
    }
   ],
   "source": [
    "ax = sns.countplot(x=\"churn\", hue=\"gender\", data=data)\n",
    "ax.legend().set_title(\"\")\n",
    "\n",
    "# Annotations\n",
    "for p in ax.patches:\n",
    "    height = p.get_height()\n",
    "    ax.text(\n",
    "        p.get_x() + p.get_width() / 2.0,\n",
    "        height + 3,\n",
    "        \"{:.0f}\".format(height),\n",
    "        ha=\"center\",\n",
    "    )\n",
    "plt.title(\"User Gender Counts by User Type\")\n",
    "plt.xlabel(\"User Type\")\n",
    "plt.ylabel(\"Count\");"
   ]
  },
  {
   "cell_type": "markdown",
   "metadata": {},
   "source": [
    "## User Activity"
   ]
  },
  {
   "cell_type": "markdown",
   "metadata": {},
   "source": [
    "### Unique Sessions"
   ]
  },
  {
   "cell_type": "code",
   "execution_count": 25,
   "metadata": {},
   "outputs": [
    {
     "data": {
      "image/png": "[encoded data removed]",
      "text/plain": [
       "<Figure size 432x288 with 1 Axes>"
      ]
     },
     "metadata": {},
     "output_type": "display_data"
    }
   ],
   "source": [
    "session_df = df.groupby(\"userId\").agg(F.expr(\"count(distinct(sessionId))\").alias(\"sessions\"))\n",
    "data = session_df.join(churn_df, on = [\"userId\"]).toPandas()\n",
    "data['churn'] = data['churn'].map({0:\"Active\", 1:\"Churn\"})\n",
    "\n",
    "ax = sns.boxplot(x=\"churn\",y=\"sessions\", data=data)\n",
    "ax.set_title(\"Number of Unique Sessions by User Type\")\n",
    "ax.set_xlabel(\"User Type\")\n",
    "ax.set_ylabel(\"Sessions\");"
   ]
  },
  {
   "cell_type": "markdown",
   "metadata": {},
   "source": [
    "### Friend Added"
   ]
  },
  {
   "cell_type": "code",
   "execution_count": 52,
   "metadata": {},
   "outputs": [],
   "source": [
    "def get_user_action_count(action, alias, df=df):\n",
    "    \"\"\"Query and return the count of specific action by each user\"\"\"\n",
    "\n",
    "    return (\n",
    "        df.select(\"userId\", \"page\")\n",
    "        .filter(\"page = '{}'\".format(action))\n",
    "        .groupby(\"userId\")\n",
    "        .agg(F.expr(\"count(page)\").alias(alias))\n",
    "    )"
   ]
  },
  {
   "cell_type": "code",
   "execution_count": 99,
   "metadata": {},
   "outputs": [],
   "source": [
    "def action_distplot(action,kde_bol = True, alias=\"a\", df=df, churn_df=churn_df):\n",
    "    \"\"\"plot the distribution of specific number of actions per active vs. churned user \"\"\"\n",
    "\n",
    "    # Data preparation\n",
    "\n",
    "    temp_df = get_user_action_count(action, alias, df)\n",
    "    data = temp_df.join(churn_df, on=[\"userId\"]).toPandas()\n",
    "\n",
    "    # Plot\n",
    "    sns.distplot(data[data[\"churn\"] ==0][alias], kde =kde_bol, label = \"Active\")\n",
    "    sns.distplot(data[data[\"churn\"] ==1][alias], kde =kde_bol, label = \"Churned\")\n",
    "    plt.xlabel(f\"Action Count - {action}\")\n",
    "    if kde_bol:\n",
    "        plt.ylabel(\"Density\")\n",
    "    else:\n",
    "        plt.ylabel(\"Count\") \n",
    "    plt.title(f\"Distribution of Action Count by Active and Churned Users - {action}\")\n",
    "    plt.legend()"
   ]
  },
  {
   "cell_type": "code",
   "execution_count": 178,
   "metadata": {},
   "outputs": [],
   "source": [
    "def describe_action(action, df=df, churn_df=churn_df):\n",
    "    action_df = get_user_action_count(action, \"v\", df)\n",
    "    data = action_df.join(churn_df, on=[\"userId\"])\n",
    "    return data.groupby(\"churn\").agg(\n",
    "        F.count(\"v\").alias(\"count\"),\n",
    "        F.format_number(F.mean(\"v\"),1).alias(\"mean\"),\n",
    "        F.format_number(F.stddev(\"v\"),1).alias(\"std\"),\n",
    "        F.min(\"v\").alias(\"min\"),\n",
    "        F.format_number(F.expr(\"percentile(v, array(0.25))\")[0],1).alias(\"%25\"),\n",
    "        F.format_number(F.expr(\"percentile(v, array(0.5))\")[0],1).alias(\"%50\"),\n",
    "        F.format_number(F.expr(\"percentile(v, array(0.75))\")[0],1).alias(\"%75\"),\n",
    "        F.max(\"v\").alias(\"max\"),\n",
    "    )"
   ]
  },
  {
   "cell_type": "code",
   "execution_count": 179,
   "metadata": {},
   "outputs": [
    {
     "name": "stdout",
     "output_type": "stream",
     "text": [
      "+-----+-----+----+----+---+---+----+----+---+\n",
      "|churn|count|mean| std|min|%25| %50| %75|max|\n",
      "+-----+-----+----+----+---+---+----+----+---+\n",
      "|    1|   44|14.5|10.7|  1|6.0|12.5|21.2| 47|\n",
      "|    0|  162|22.5|22.3|  1|8.0|17.0|31.0|143|\n",
      "+-----+-----+----+----+---+---+----+----+---+\n",
      "\n"
     ]
    }
   ],
   "source": [
    "describe_action(\"Add Friend\").show()"
   ]
  },
  {
   "cell_type": "code",
   "execution_count": 180,
   "metadata": {},
   "outputs": [
    {
     "name": "stdout",
     "output_type": "stream",
     "text": [
      "Statistics of Cancel:\n",
      "+-----+-----+----+---+---+---+---+---+---+\n",
      "|churn|count|mean|std|min|%25|%50|%75|max|\n",
      "+-----+-----+----+---+---+---+---+---+---+\n",
      "|    1|   52| 1.0|0.0|  1|1.0|1.0|1.0|  1|\n",
      "+-----+-----+----+---+---+---+---+---+---+\n",
      "\n",
      "Statistics of Submit Downgrade:\n",
      "+-----+-----+----+---+---+---+---+---+---+\n",
      "|churn|count|mean|std|min|%25|%50|%75|max|\n",
      "+-----+-----+----+---+---+---+---+---+---+\n",
      "|    1|    9| 1.0|0.0|  1|1.0|1.0|1.0|  1|\n",
      "|    0|   40| 1.4|0.6|  1|1.0|1.0|2.0|  3|\n",
      "+-----+-----+----+---+---+---+---+---+---+\n",
      "\n",
      "Statistics of Thumbs Down:\n",
      "+-----+-----+----+----+---+---+---+----+---+\n",
      "|churn|count|mean| std|min|%25|%50| %75|max|\n",
      "+-----+-----+----+----+---+---+---+----+---+\n",
      "|    1|   48|10.3| 9.0|  1|3.0|8.0|16.0| 36|\n",
      "|    0|  155|13.2|14.2|  1|3.5|9.0|17.0| 75|\n",
      "+-----+-----+----+----+---+---+---+----+---+\n",
      "\n",
      "Statistics of Home:\n",
      "+-----+-----+----+----+---+----+----+----+---+\n",
      "|churn|count|mean| std|min| %25| %50| %75|max|\n",
      "+-----+-----+----+----+---+----+----+----+---+\n",
      "|    1|   51|32.8|29.3|  1|11.5|23.0|50.0|129|\n",
      "|    0|  172|48.9|50.9|  1|14.0|35.5|69.2|355|\n",
      "+-----+-----+----+----+---+----+----+----+---+\n",
      "\n",
      "Statistics of Downgrade:\n",
      "+-----+-----+----+----+---+---+----+----+---+\n",
      "|churn|count|mean| std|min|%25| %50| %75|max|\n",
      "+-----+-----+----+----+---+---+----+----+---+\n",
      "|    1|   35| 9.6| 8.4|  1|4.0| 7.0|13.0| 39|\n",
      "|    0|  119|14.4|12.8|  1|6.0|10.0|20.5| 73|\n",
      "+-----+-----+----+----+---+---+----+----+---+\n",
      "\n",
      "Statistics of Roll Advert:\n",
      "+-----+-----+----+----+---+---+----+----+---+\n",
      "|churn|count|mean| std|min|%25| %50| %75|max|\n",
      "+-----+-----+----+----+---+---+----+----+---+\n",
      "|    1|   50|19.3|21.9|  1|3.2|12.5|27.0|115|\n",
      "|    0|  157|18.9|21.9|  1|4.0|12.0|22.0|128|\n",
      "+-----+-----+----+----+---+---+----+----+---+\n",
      "\n",
      "Statistics of Logout:\n",
      "+-----+-----+----+----+---+---+----+----+---+\n",
      "|churn|count|mean| std|min|%25| %50| %75|max|\n",
      "+-----+-----+----+----+---+---+----+----+---+\n",
      "|    1|   46|12.0| 9.2|  1|5.0|11.0|18.0| 41|\n",
      "|    0|  167|16.0|16.6|  1|5.0|12.0|21.0|124|\n",
      "+-----+-----+----+----+---+---+----+----+---+\n",
      "\n",
      "Statistics of Save Settings:\n",
      "+-----+-----+----+---+---+---+---+---+---+\n",
      "|churn|count|mean|std|min|%25|%50|%75|max|\n",
      "+-----+-----+----+---+---+---+---+---+---+\n",
      "|    1|   30| 1.9|1.0|  1|1.0|2.0|3.0|  4|\n",
      "|    0|  102| 2.5|1.8|  1|1.0|2.0|3.0| 10|\n",
      "+-----+-----+----+---+---+---+---+---+---+\n",
      "\n",
      "Statistics of Cancellation Confirmation:\n",
      "+-----+-----+----+---+---+---+---+---+---+\n",
      "|churn|count|mean|std|min|%25|%50|%75|max|\n",
      "+-----+-----+----+---+---+---+---+---+---+\n",
      "|    1|   52| 1.0|0.0|  1|1.0|1.0|1.0|  1|\n",
      "+-----+-----+----+---+---+---+---+---+---+\n",
      "\n",
      "Statistics of About:\n",
      "+-----+-----+----+---+---+---+---+---+---+\n",
      "|churn|count|mean|std|min|%25|%50|%75|max|\n",
      "+-----+-----+----+---+---+---+---+---+---+\n",
      "|    1|   31| 1.8|1.1|  1|1.0|1.0|2.0|  5|\n",
      "|    0|  124| 3.5|3.6|  1|1.0|3.0|5.0| 25|\n",
      "+-----+-----+----+---+---+---+---+---+---+\n",
      "\n",
      "Statistics of Settings:\n",
      "+-----+-----+----+---+---+---+---+----+---+\n",
      "|churn|count|mean|std|min|%25|%50| %75|max|\n",
      "+-----+-----+----+---+---+---+---+----+---+\n",
      "|    1|   43| 6.3|4.5|  1|3.0|5.0| 8.0| 19|\n",
      "|    0|  152| 8.2|7.5|  1|3.0|6.0|11.2| 52|\n",
      "+-----+-----+----+---+---+---+---+----+---+\n",
      "\n",
      "Statistics of Add to Playlist:\n",
      "+-----+-----+----+----+---+---+----+----+---+\n",
      "|churn|count|mean| std|min|%25| %50| %75|max|\n",
      "+-----+-----+----+----+---+---+----+----+---+\n",
      "|    1|   50|20.8|21.2|  1|4.8|12.0|30.0| 89|\n",
      "|    0|  165|33.3|35.2|  1|8.0|23.0|50.0|240|\n",
      "+-----+-----+----+----+---+---+----+----+---+\n",
      "\n",
      "Statistics of Add Friend:\n",
      "+-----+-----+----+----+---+---+----+----+---+\n",
      "|churn|count|mean| std|min|%25| %50| %75|max|\n",
      "+-----+-----+----+----+---+---+----+----+---+\n",
      "|    1|   44|14.5|10.7|  1|6.0|12.5|21.2| 47|\n",
      "|    0|  162|22.5|22.3|  1|8.0|17.0|31.0|143|\n",
      "+-----+-----+----+----+---+---+----+----+---+\n",
      "\n",
      "Statistics of NextSong:\n",
      "+-----+-----+-------+-------+---+-----+-----+-------+----+\n",
      "|churn|count|   mean|    std|min|  %25|  %50|    %75| max|\n",
      "+-----+-----+-------+-------+---+-----+-----+-------+----+\n",
      "|    1|   52|  699.9|  714.7|  8|148.8|452.5|  963.5|3028|\n",
      "|    0|  173|1,108.2|1,183.1|  3|251.0|747.0|1,640.0|8002|\n",
      "+-----+-----+-------+-------+---+-----+-----+-------+----+\n",
      "\n",
      "Statistics of Thumbs Up:\n",
      "+-----+-----+----+----+---+----+----+----+---+\n",
      "|churn|count|mean| std|min| %25| %50| %75|max|\n",
      "+-----+-----+----+----+---+----+----+----+---+\n",
      "|    1|   50|37.2|39.8|  1|10.0|20.0|45.0|163|\n",
      "|    0|  170|62.9|70.6|  1|14.0|42.0|84.0|437|\n",
      "+-----+-----+----+----+---+----+----+----+---+\n",
      "\n",
      "Statistics of Help:\n",
      "+-----+-----+----+---+---+---+---+----+---+\n",
      "|churn|count|mean|std|min|%25|%50| %75|max|\n",
      "+-----+-----+----+---+---+---+---+----+---+\n",
      "|    1|   43| 5.6|5.3|  1|2.0|4.0| 7.0| 28|\n",
      "|    0|  149| 8.2|7.7|  1|3.0|7.0|10.0| 46|\n",
      "+-----+-----+----+---+---+---+---+----+---+\n",
      "\n",
      "Statistics of Upgrade:\n",
      "+-----+-----+----+---+---+---+---+---+---+\n",
      "|churn|count|mean|std|min|%25|%50|%75|max|\n",
      "+-----+-----+----+---+---+---+---+---+---+\n",
      "|    1|   37| 3.0|2.1|  1|1.0|2.0|4.0|  8|\n",
      "|    0|  131| 3.0|2.7|  1|1.0|2.0|3.5| 15|\n",
      "+-----+-----+----+---+---+---+---+---+---+\n",
      "\n",
      "Statistics of Error:\n",
      "+-----+-----+----+---+---+---+---+---+---+\n",
      "|churn|count|mean|std|min|%25|%50|%75|max|\n",
      "+-----+-----+----+---+---+---+---+---+---+\n",
      "|    1|   22| 1.5|0.7|  1|1.0|1.0|2.0|  3|\n",
      "|    0|   95| 2.3|1.5|  1|1.0|2.0|3.0|  7|\n",
      "+-----+-----+----+---+---+---+---+---+---+\n",
      "\n",
      "Statistics of Submit Upgrade:\n",
      "+-----+-----+----+---+---+---+---+---+---+\n",
      "|churn|count|mean|std|min|%25|%50|%75|max|\n",
      "+-----+-----+----+---+---+---+---+---+---+\n",
      "|    1|   29| 1.1|0.3|  1|1.0|1.0|1.0|  2|\n",
      "|    0|  102| 1.2|0.6|  1|1.0|1.0|1.0|  4|\n",
      "+-----+-----+----+---+---+---+---+---+---+\n",
      "\n"
     ]
    }
   ],
   "source": [
    "action_list = df.select(\"page\").distinct().toPandas().iloc[:,0]\n",
    "for action in action_list:\n",
    "    print(f\"Statistics of {action}:\")\n",
    "    describe_action(action).show()\n",
    "    "
   ]
  },
  {
   "cell_type": "code",
   "execution_count": 100,
   "metadata": {},
   "outputs": [
    {
     "data": {
      "image/png": "[encoded data removed]",
      "text/plain": [
       "<Figure size 432x288 with 1 Axes>"
      ]
     },
     "metadata": {},
     "output_type": "display_data"
    }
   ],
   "source": [
    "action_distplot(\"Add Friend\", False)"
   ]
  },
  {
   "cell_type": "markdown",
   "metadata": {},
   "source": [
    "### Thumbs Down"
   ]
  },
  {
   "cell_type": "code",
   "execution_count": 102,
   "metadata": {},
   "outputs": [
    {
     "data": {
      "image/png": "[encoded data removed]",
      "text/plain": [
       "<Figure size 432x288 with 1 Axes>"
      ]
     },
     "metadata": {},
     "output_type": "display_data"
    }
   ],
   "source": [
    "action_distplot(\"Thumbs Down\",False)"
   ]
  },
  {
   "cell_type": "code",
   "execution_count": 29,
   "metadata": {},
   "outputs": [
    {
     "name": "stdout",
     "output_type": "stream",
     "text": [
      "+--------------------+\n",
      "|                page|\n",
      "+--------------------+\n",
      "|              Cancel|\n",
      "|    Submit Downgrade|\n",
      "|         Thumbs Down|\n",
      "|                Home|\n",
      "|           Downgrade|\n",
      "|         Roll Advert|\n",
      "|              Logout|\n",
      "|       Save Settings|\n",
      "|Cancellation Conf...|\n",
      "|               About|\n",
      "|            Settings|\n",
      "|     Add to Playlist|\n",
      "|          Add Friend|\n",
      "|            NextSong|\n",
      "|           Thumbs Up|\n",
      "|                Help|\n",
      "|             Upgrade|\n",
      "|               Error|\n",
      "|      Submit Upgrade|\n",
      "+--------------------+\n",
      "\n"
     ]
    }
   ],
   "source": [
    "df.select(\"page\").distinct().show()"
   ]
  },
  {
   "cell_type": "markdown",
   "metadata": {},
   "source": [
    "# Feature Engineering\n",
    "Once you've familiarized yourself with the data, build out the features you find promising to train your model on. To work with the full dataset, you can follow the following steps.\n",
    "- Write a script to extract the necessary features from the smaller subset of data\n",
    "- Ensure that your script is scalable, using the best practices discussed in Lesson 3\n",
    "- Try your script on the full data set, debugging your script if necessary\n",
    "\n",
    "If you are working in the classroom workspace, you can just extract features based on the small subset of data contained here. Be sure to transfer over this work to the larger dataset when you work on your Spark cluster."
   ]
  },
  {
   "cell_type": "code",
   "execution_count": null,
   "metadata": {
    "collapsed": true,
    "jupyter": {
     "outputs_hidden": true
    },
    "scrolled": true
   },
   "outputs": [],
   "source": []
  },
  {
   "cell_type": "markdown",
   "metadata": {},
   "source": [
    "# Modeling\n",
    "Split the full dataset into train, test, and validation sets. Test out several of the machine learning methods you learned. Evaluate the accuracy of the various models, tuning parameters as necessary. Determine your winning model based on test accuracy and report results on the validation set. Since the churned users are a fairly small subset, I suggest using F1 score as the metric to optimize."
   ]
  },
  {
   "cell_type": "code",
   "execution_count": null,
   "metadata": {
    "collapsed": true,
    "jupyter": {
     "outputs_hidden": true
    },
    "scrolled": true
   },
   "outputs": [],
   "source": []
  },
  {
   "cell_type": "markdown",
   "metadata": {},
   "source": [
    "# Final Steps\n",
    "Clean up your code, adding comments and renaming variables to make the code easier to read and maintain. Refer to the Spark Project Overview page and Data Scientist Capstone Project Rubric to make sure you are including all components of the capstone project and meet all expectations. Remember, this includes thorough documentation in a README file in a Github repository, as well as a web app or blog post."
   ]
  },
  {
   "cell_type": "code",
   "execution_count": null,
   "metadata": {
    "collapsed": true,
    "jupyter": {
     "outputs_hidden": true
    },
    "scrolled": true
   },
   "outputs": [],
   "source": []
  }
 ],
 "metadata": {
  "kernelspec": {
   "display_name": "Python [conda env:sparkify]",
   "language": "python",
   "name": "conda-env-sparkify-py"
  },
  "language_info": {
   "codemirror_mode": {
    "name": "ipython",
    "version": 3
   },
   "file_extension": ".py",
   "mimetype": "text/x-python",
   "name": "python",
   "nbconvert_exporter": "python",
   "pygments_lexer": "ipython3",
   "version": "3.7.7"
  },
  "toc-autonumbering": true
 },
 "nbformat": 4,
 "nbformat_minor": 4
}
